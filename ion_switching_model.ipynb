{
  "nbformat": 4,
  "nbformat_minor": 0,
  "metadata": {
    "colab": {
      "name": "ion-switching-model.ipynb",
      "provenance": [],
      "machine_shape": "hm",
      "authorship_tag": "ABX9TyOUUTffWhsm2iu2dW/W7ue1",
      "include_colab_link": true
    },
    "kernelspec": {
      "name": "python3",
      "display_name": "Python 3"
    }
  },
  "cells": [
    {
      "cell_type": "markdown",
      "metadata": {
        "id": "view-in-github",
        "colab_type": "text"
      },
      "source": [
        "<a href=\"https://colab.research.google.com/github/hsyvy/ion-switching/blob/master/ion_switching_model.ipynb\" target=\"_parent\"><img src=\"https://colab.research.google.com/assets/colab-badge.svg\" alt=\"Open In Colab\"/></a>"
      ]
    },
    {
      "cell_type": "markdown",
      "metadata": {
        "id": "_vpUWUz4BHE1",
        "colab_type": "text"
      },
      "source": [
        "# Colab environment development"
      ]
    },
    {
      "cell_type": "code",
      "metadata": {
        "id": "JHz4EBgAkjWj",
        "colab_type": "code",
        "colab": {}
      },
      "source": [
        "# mount google drive\n",
        "from google.colab import drive\n",
        "drive.mount('/content/gdrive')"
      ],
      "execution_count": 0,
      "outputs": []
    },
    {
      "cell_type": "code",
      "metadata": {
        "id": "kJGBrB1lf0Me",
        "colab_type": "code",
        "colab": {}
      },
      "source": [
        "from google.colab import files\n",
        "files.upload()\n",
        "\n",
        "# !pip install kaggle\n",
        "!mkdir -p ~/.kaggle\n",
        "!cp kaggle.json ~/.kaggle/\n",
        "!chmod 600 ~/.kaggle/kaggle.json\n",
        "\n",
        "!kaggle competitions download -c liverpool-ion-switching\n",
        "\n",
        "!unzip sample_submission.csv.zip\n",
        "!unzip train.csv.zip\n",
        "!unzip test.csv.zip"
      ],
      "execution_count": 0,
      "outputs": []
    },
    {
      "cell_type": "code",
      "metadata": {
        "id": "TQukzfzygAvk",
        "colab_type": "code",
        "outputId": "a2b4891c-4842-42f9-a01d-78d6c8b57ac7",
        "colab": {
          "base_uri": "https://localhost:8080/",
          "height": 34
        }
      },
      "source": [
        "!ls"
      ],
      "execution_count": 1,
      "outputs": [
        {
          "output_type": "stream",
          "text": [
            "sample_data\n"
          ],
          "name": "stdout"
        }
      ]
    },
    {
      "cell_type": "markdown",
      "metadata": {
        "id": "iLrPTXGkBt1e",
        "colab_type": "text"
      },
      "source": [
        "# Ion-switching "
      ]
    },
    {
      "cell_type": "markdown",
      "metadata": {
        "id": "Y66cmAm3CSa2",
        "colab_type": "text"
      },
      "source": [
        "## imports"
      ]
    },
    {
      "cell_type": "code",
      "metadata": {
        "id": "2gMgZwM2k7YY",
        "colab_type": "code",
        "colab": {}
      },
      "source": [
        "# imports\n",
        "import pandas as pd\n",
        "import numpy as np\n",
        "import matplotlib.pyplot as plt\n",
        "plt.style.use('ggplot')\n",
        "\n",
        "import seaborn as sns\n",
        "import warnings\n",
        "warnings.simplefilter(\"ignore\")\n",
        "import gc\n",
        "\n",
        "import lightgbm as lgb\n",
        "from sklearn.metrics import f1_score, confusion_matrix, accuracy_score, precision_score, recall_score, roc_auc_score\n",
        "from scipy.misc import derivative\n",
        "from scipy.special import softmax\n",
        "\n",
        "\n"
      ],
      "execution_count": 0,
      "outputs": []
    },
    {
      "cell_type": "markdown",
      "metadata": {
        "id": "FRjmOa2cB6uk",
        "colab_type": "text"
      },
      "source": [
        "## Data loading"
      ]
    },
    {
      "cell_type": "code",
      "metadata": {
        "id": "k6SuCVmlAM5F",
        "colab_type": "code",
        "outputId": "5ac01c31-73d6-4014-f3d5-fb5d7e972f81",
        "colab": {
          "base_uri": "https://localhost:8080/",
          "height": 204
        }
      },
      "source": [
        "train_raw = pd.read_csv(\"train.csv\")\n",
        "train_raw.head()"
      ],
      "execution_count": 0,
      "outputs": [
        {
          "output_type": "execute_result",
          "data": {
            "text/html": [
              "<div>\n",
              "<style scoped>\n",
              "    .dataframe tbody tr th:only-of-type {\n",
              "        vertical-align: middle;\n",
              "    }\n",
              "\n",
              "    .dataframe tbody tr th {\n",
              "        vertical-align: top;\n",
              "    }\n",
              "\n",
              "    .dataframe thead th {\n",
              "        text-align: right;\n",
              "    }\n",
              "</style>\n",
              "<table border=\"1\" class=\"dataframe\">\n",
              "  <thead>\n",
              "    <tr style=\"text-align: right;\">\n",
              "      <th></th>\n",
              "      <th>time</th>\n",
              "      <th>signal</th>\n",
              "      <th>open_channels</th>\n",
              "    </tr>\n",
              "  </thead>\n",
              "  <tbody>\n",
              "    <tr>\n",
              "      <th>0</th>\n",
              "      <td>0.0001</td>\n",
              "      <td>-2.7600</td>\n",
              "      <td>0</td>\n",
              "    </tr>\n",
              "    <tr>\n",
              "      <th>1</th>\n",
              "      <td>0.0002</td>\n",
              "      <td>-2.8557</td>\n",
              "      <td>0</td>\n",
              "    </tr>\n",
              "    <tr>\n",
              "      <th>2</th>\n",
              "      <td>0.0003</td>\n",
              "      <td>-2.4074</td>\n",
              "      <td>0</td>\n",
              "    </tr>\n",
              "    <tr>\n",
              "      <th>3</th>\n",
              "      <td>0.0004</td>\n",
              "      <td>-3.1404</td>\n",
              "      <td>0</td>\n",
              "    </tr>\n",
              "    <tr>\n",
              "      <th>4</th>\n",
              "      <td>0.0005</td>\n",
              "      <td>-3.1525</td>\n",
              "      <td>0</td>\n",
              "    </tr>\n",
              "  </tbody>\n",
              "</table>\n",
              "</div>"
            ],
            "text/plain": [
              "     time  signal  open_channels\n",
              "0  0.0001 -2.7600              0\n",
              "1  0.0002 -2.8557              0\n",
              "2  0.0003 -2.4074              0\n",
              "3  0.0004 -3.1404              0\n",
              "4  0.0005 -3.1525              0"
            ]
          },
          "metadata": {
            "tags": []
          },
          "execution_count": 5
        }
      ]
    },
    {
      "cell_type": "code",
      "metadata": {
        "id": "yEqG9eNp3TMn",
        "colab_type": "code",
        "outputId": "36d520db-b32b-46b1-9cd0-ccfd209e6b88",
        "colab": {
          "base_uri": "https://localhost:8080/",
          "height": 51
        }
      },
      "source": [
        "%%time\n",
        "# clean data without feature engineering\n",
        "train_clean = pd.read_csv(\"gdrive/My Drive/data/ion-switching/train_clean.csv\")\n",
        "# test = pd.read_csv(\"gdrive/My Drive/data/ion-switching/test_clean.csv\")"
      ],
      "execution_count": 0,
      "outputs": [
        {
          "output_type": "stream",
          "text": [
            "CPU times: user 1.01 s, sys: 97.2 ms, total: 1.11 s\n",
            "Wall time: 2.6 s\n"
          ],
          "name": "stdout"
        }
      ]
    },
    {
      "cell_type": "code",
      "metadata": {
        "id": "liPf66XClNn8",
        "colab_type": "code",
        "outputId": "6e16441f-7a84-401b-b2d6-a7729031fd21",
        "colab": {
          "base_uri": "https://localhost:8080/",
          "height": 204
        }
      },
      "source": [
        "train.head()"
      ],
      "execution_count": 0,
      "outputs": [
        {
          "output_type": "execute_result",
          "data": {
            "text/html": [
              "<div>\n",
              "<style scoped>\n",
              "    .dataframe tbody tr th:only-of-type {\n",
              "        vertical-align: middle;\n",
              "    }\n",
              "\n",
              "    .dataframe tbody tr th {\n",
              "        vertical-align: top;\n",
              "    }\n",
              "\n",
              "    .dataframe thead th {\n",
              "        text-align: right;\n",
              "    }\n",
              "</style>\n",
              "<table border=\"1\" class=\"dataframe\">\n",
              "  <thead>\n",
              "    <tr style=\"text-align: right;\">\n",
              "      <th></th>\n",
              "      <th>time</th>\n",
              "      <th>signal</th>\n",
              "      <th>open_channels</th>\n",
              "    </tr>\n",
              "  </thead>\n",
              "  <tbody>\n",
              "    <tr>\n",
              "      <th>0</th>\n",
              "      <td>0.0001</td>\n",
              "      <td>-2.7600</td>\n",
              "      <td>0</td>\n",
              "    </tr>\n",
              "    <tr>\n",
              "      <th>1</th>\n",
              "      <td>0.0002</td>\n",
              "      <td>-2.8557</td>\n",
              "      <td>0</td>\n",
              "    </tr>\n",
              "    <tr>\n",
              "      <th>2</th>\n",
              "      <td>0.0003</td>\n",
              "      <td>-2.4074</td>\n",
              "      <td>0</td>\n",
              "    </tr>\n",
              "    <tr>\n",
              "      <th>3</th>\n",
              "      <td>0.0004</td>\n",
              "      <td>-3.1404</td>\n",
              "      <td>0</td>\n",
              "    </tr>\n",
              "    <tr>\n",
              "      <th>4</th>\n",
              "      <td>0.0005</td>\n",
              "      <td>-3.1525</td>\n",
              "      <td>0</td>\n",
              "    </tr>\n",
              "  </tbody>\n",
              "</table>\n",
              "</div>"
            ],
            "text/plain": [
              "     time  signal  open_channels\n",
              "0  0.0001 -2.7600              0\n",
              "1  0.0002 -2.8557              0\n",
              "2  0.0003 -2.4074              0\n",
              "3  0.0004 -3.1404              0\n",
              "4  0.0005 -3.1525              0"
            ]
          },
          "metadata": {
            "tags": []
          },
          "execution_count": 4
        }
      ]
    },
    {
      "cell_type": "code",
      "metadata": {
        "id": "xDE577hylQto",
        "colab_type": "code",
        "outputId": "65cf1068-f18e-43f9-bdef-68b1c5cad6a6",
        "colab": {
          "base_uri": "https://localhost:8080/",
          "height": 34
        }
      },
      "source": [
        "train.shape"
      ],
      "execution_count": 0,
      "outputs": [
        {
          "output_type": "execute_result",
          "data": {
            "text/plain": [
              "(5000000, 3)"
            ]
          },
          "metadata": {
            "tags": []
          },
          "execution_count": 5
        }
      ]
    },
    {
      "cell_type": "code",
      "metadata": {
        "id": "PpWizcB9somP",
        "colab_type": "code",
        "colab": {}
      },
      "source": [
        "test.head()"
      ],
      "execution_count": 0,
      "outputs": []
    },
    {
      "cell_type": "code",
      "metadata": {
        "id": "bZh51szjsq-I",
        "colab_type": "code",
        "outputId": "e397e55c-9aed-4e57-f2ba-9dbd0b6487cf",
        "colab": {
          "base_uri": "https://localhost:8080/",
          "height": 34
        }
      },
      "source": [
        "test.shape"
      ],
      "execution_count": 0,
      "outputs": [
        {
          "output_type": "execute_result",
          "data": {
            "text/plain": [
              "(2000000, 2)"
            ]
          },
          "metadata": {
            "tags": []
          },
          "execution_count": 11
        }
      ]
    },
    {
      "cell_type": "code",
      "metadata": {
        "id": "3W2C4lL9zxKQ",
        "colab_type": "code",
        "outputId": "37352328-7bd3-480d-b1fd-02ce92af20c7",
        "colab": {
          "base_uri": "https://localhost:8080/",
          "height": 419
        }
      },
      "source": [
        "plt.figure(figsize=(8,6))\n",
        "sns.countplot(x=\"open_channels\", data=train)"
      ],
      "execution_count": 0,
      "outputs": [
        {
          "output_type": "execute_result",
          "data": {
            "text/plain": [
              "<matplotlib.axes._subplots.AxesSubplot at 0x7f96a3afe128>"
            ]
          },
          "metadata": {
            "tags": []
          },
          "execution_count": 13
        },
        {
          "output_type": "display_data",
          "data": {
            "image/png": "[encoded data removed]",
            "text/plain": [
              "<Figure size 576x432 with 1 Axes>"
            ]
          },
          "metadata": {
            "tags": []
          }
        }
      ]
    },
    {
      "cell_type": "code",
      "metadata": {
        "id": "jONuwkJnkvaQ",
        "colab_type": "code",
        "outputId": "14854c2a-1c63-4fe6-c838-f3451340f307",
        "colab": {
          "base_uri": "https://localhost:8080/",
          "height": 51
        }
      },
      "source": [
        "%%time\n",
        "# data with feature engineering v2\n",
        "train = pd.read_csv(\"gdrive/My Drive/data/ion-switching/train_finalv2.csv\")\n",
        "# test = pd.read_csv(\"gdrive/My Drive/data/ion-switching/test_finalv2.csv\")"
      ],
      "execution_count": 0,
      "outputs": [
        {
          "output_type": "stream",
          "text": [
            "CPU times: user 56.5 s, sys: 11.2 s, total: 1min 7s\n",
            "Wall time: 1min 22s\n"
          ],
          "name": "stdout"
        }
      ]
    },
    {
      "cell_type": "code",
      "metadata": {
        "id": "TKcJIapWWBqj",
        "colab_type": "code",
        "colab": {}
      },
      "source": [
        "train.head()"
      ],
      "execution_count": 0,
      "outputs": []
    },
    {
      "cell_type": "code",
      "metadata": {
        "id": "ma5sn350ArDU",
        "colab_type": "code",
        "colab": {}
      },
      "source": [
        ""
      ],
      "execution_count": 0,
      "outputs": []
    },
    {
      "cell_type": "markdown",
      "metadata": {
        "id": "JMhzWQbo8Yd0",
        "colab_type": "text"
      },
      "source": [
        "### Data-preprocessing"
      ]
    },
    {
      "cell_type": "code",
      "metadata": {
        "id": "9d0Pr2G_8jiW",
        "colab_type": "code",
        "colab": {}
      },
      "source": [
        "# create the batch for each 50 sec data\n",
        "def create_batches(df):\n",
        "    batches = []\n",
        "    batch_size = 500000\n",
        "    for idx in range(df.shape[0] // batch_size):\n",
        "        batches.append(df[idx * batch_size: (idx + 1) * batch_size])\n",
        "    return batches\n",
        "\n",
        "# train_batches = create_batches(train)\n",
        "# test_batches = create_batches(test)"
      ],
      "execution_count": 0,
      "outputs": []
    },
    {
      "cell_type": "code",
      "metadata": {
        "id": "Dgk8aX3FBBo_",
        "colab_type": "code",
        "colab": {}
      },
      "source": [
        "train_raw_batches = create_batches(train_raw)\n",
        "train_clean_batches = create_batches(train_clean)"
      ],
      "execution_count": 0,
      "outputs": []
    },
    {
      "cell_type": "markdown",
      "metadata": {
        "id": "2-x-P4QiAiCr",
        "colab_type": "text"
      },
      "source": [
        "### Raw signal vs clean signal"
      ]
    },
    {
      "cell_type": "code",
      "metadata": {
        "id": "DhFL1oCVAmuA",
        "colab_type": "code",
        "colab": {}
      },
      "source": [
        "def plot_dist(batch, data, labels):\n",
        "    plt.figure()\n",
        "    plt.title(\"Signal Distribution Model, batch \"+ str(batch))\n",
        "    for i, x in enumerate(data):\n",
        "        x = x['signal']\n",
        "        sns.distplot(x, label=labels[i], kde=True, bins=np.arange(np.min(x), np.max(x), 0.01))\n",
        "    plt.xlabel(\"signal value\")\n",
        "    plt.ylabel(\"frequency\")\n",
        "    plt.legend(loc=\"best\") \n",
        "    plt.tight_layout()\n",
        "    "
      ],
      "execution_count": 0,
      "outputs": []
    },
    {
      "cell_type": "code",
      "metadata": {
        "id": "MhVEVUmBBTvw",
        "colab_type": "code",
        "outputId": "ff93305e-eab0-48cc-c471-8b675ab90edb",
        "colab": {
          "base_uri": "https://localhost:8080/",
          "height": 1000
        }
      },
      "source": [
        "for i in [0, 1, 6, 7, 8, 9]:\n",
        "    plot_dist(i, (train_raw_batches[i], train_clean_batches[i]), labels=['raw signal', 'clean signal'])"
      ],
      "execution_count": 0,
      "outputs": [
        {
          "output_type": "display_data",
          "data": {
            "image/png": "[encoded data removed]",
            "text/plain": [
              "<Figure size 432x288 with 1 Axes>"
            ]
          },
          "metadata": {
            "tags": []
          }
        },
        {
          "output_type": "display_data",
          "data": {
            "image/png": "[encoded data removed]",
            "text/plain": [
              "<Figure size 432x288 with 1 Axes>"
            ]
          },
          "metadata": {
            "tags": []
          }
        },
        {
          "output_type": "display_data",
          "data": {
            "image/png": "[encoded data removed]",
            "text/plain": [
              "<Figure size 432x288 with 1 Axes>"
            ]
          },
          "metadata": {
            "tags": []
          }
        },
        {
          "output_type": "display_data",
          "data": {
            "image/png": "[encoded data removed]",
            "text/plain": [
              "<Figure size 432x288 with 1 Axes>"
            ]
          },
          "metadata": {
            "tags": []
          }
        },
        {
          "output_type": "display_data",
          "data": {
            "image/png": "[encoded data removed]",
            "text/plain": [
              "<Figure size 432x288 with 1 Axes>"
            ]
          },
          "metadata": {
            "tags": []
          }
        },
        {
          "output_type": "display_data",
          "data": {
            "image/png": "[encoded data removed]",
            "text/plain": [
              "<Figure size 432x288 with 1 Axes>"
            ]
          },
          "metadata": {
            "tags": []
          }
        }
      ]
    },
    {
      "cell_type": "markdown",
      "metadata": {
        "id": "hC9PZUFd6z2b",
        "colab_type": "text"
      },
      "source": [
        "## Feature Engineering"
      ]
    },
    {
      "cell_type": "markdown",
      "metadata": {
        "id": "YVbYdOEL7bE9",
        "colab_type": "text"
      },
      "source": [
        "### v1"
      ]
    },
    {
      "cell_type": "code",
      "metadata": {
        "id": "EapNcQaW7Bet",
        "colab_type": "code",
        "colab": {}
      },
      "source": [
        "def create_featuresv1(batches_list, num_prev_features=100, win_type=None):\n",
        "    for batch in batches_list:\n",
        "        # last n features\n",
        "        for i in range(1, num_prev_features):\n",
        "            batch['last_' + str(i)+'_feature'] = batch['signal'].shift(i) \n"
      ],
      "execution_count": 0,
      "outputs": []
    },
    {
      "cell_type": "code",
      "metadata": {
        "id": "C-0njL2jfxig",
        "colab_type": "code",
        "colab": {}
      },
      "source": [
        "def create_featuresv1(batches_list, feature_range=list(range(1,10)), win_type=None):\n",
        "    for batch in batches_list:\n",
        "        # last n features\n",
        "        for i in feature_range:\n",
        "            batch['last_' + str(i)+'_feature'] = batch['signal'].shift(i) "
      ],
      "execution_count": 0,
      "outputs": []
    },
    {
      "cell_type": "markdown",
      "metadata": {
        "id": "CqJVkEuH7ec2",
        "colab_type": "text"
      },
      "source": [
        "###v2"
      ]
    },
    {
      "cell_type": "code",
      "metadata": {
        "id": "1J3Fb0Jd6yYw",
        "colab_type": "code",
        "colab": {}
      },
      "source": [
        "def create_featuresv2(batches_list, num_prev_features=51, win_type=None):\n",
        "    for batch in batches_list:\n",
        "        # last n features\n",
        "        for i in range(1, num_prev_features):\n",
        "            batch['last_' + str(i)+'_feature'] = batch['signal'].shift(i) \n",
        "        # last n rolling mean\n",
        "        for i in [10, 25, 50]:\n",
        "            batch['rolling_'+str(i)+ '_mean'] = batch['signal'].rolling(i, win_type=None).mean()\n",
        "            batch['rolling_'+str(i)+ '_median'] = batch['signal'].rolling(i, win_type=None).median()\n",
        "            batch['rolling_'+str(i)+ '_var'] = batch['signal'].rolling(i, win_type=None).var()\n",
        "\n",
        "        # last n shifted rolling mean\n",
        "        for i in [5, 10, 20, 25, 50]:\n",
        "            batch['shifted_rolling_'+str(i)+ '_mean_5'] = batch['last_' + str(i)+'_feature'].rolling(5, win_type=None).mean()\n",
        "            batch['shifted_rolling_'+str(i)+ '_median_5'] = batch['last_' + str(i)+'_feature'].rolling(5, win_type=None).median()\n",
        "            batch['shifted_rolling_'+str(i)+ '_mean_10'] = batch['last_' + str(i)+'_feature'].rolling(10, win_type=None).mean()\n",
        "            batch['shifted_rolling_'+str(i)+ '_median_10'] = batch['last_' + str(i)+'_feature'].rolling(10, win_type=None).median()\n",
        "            batch['shifted_rolling_'+str(i)+ '_var_5'] = batch['last_' + str(i)+'_feature'].rolling(5, win_type=None).var()\n",
        "            batch['shifted_rolling_'+str(i)+ '_var_10'] = batch['last_' + str(i)+'_feature'].rolling(10, win_type=None).var()\n",
        "            "
      ],
      "execution_count": 0,
      "outputs": []
    },
    {
      "cell_type": "markdown",
      "metadata": {
        "id": "gv6zRUpx_jBx",
        "colab_type": "text"
      },
      "source": [
        "### v3"
      ]
    },
    {
      "cell_type": "code",
      "metadata": {
        "id": "tqqtXr_O7ANI",
        "colab_type": "code",
        "colab": {}
      },
      "source": [
        "def create_featuresv3(batches_list, win_type=None):\n",
        "    for batch in batches_list:\n",
        "        # last n features\n",
        "        for i in range(1, 5):\n",
        "            batch['last_' + str(i)+'_feature'] = batch['signal'].shift(i)\n",
        "        \n",
        "        l = list(range(40,61))\n",
        "        l.extend([100])\n",
        "        \n",
        "        for i in l:\n",
        "            batch['last_' + str(i)+'_feature'] = batch['signal'].shift(i) \n",
        "        \n",
        "        # next n features\n",
        "        for i in range(1, 5):\n",
        "            batch['next_' + str(i)+'_feature'] = batch['signal'].shift(i*-1)\n",
        "\n",
        "        # last n rolling mean\n",
        "        for i in [10, 25, 50, 60, 100]:\n",
        "            batch['rolling_'+str(i)+ '_mean'] = batch['signal'].rolling(i, win_type=win_type).mean()\n",
        "            batch['rolling_'+str(i)+ '_median'] = batch['signal'].rolling(i, win_type=win_type).median()\n",
        "            batch['rolling_'+str(i)+ '_var'] = batch['signal'].rolling(i, win_type=win_type).var()\n",
        "            batch['rolling_min_max_diff_'+str(i)] = batch['signal'].rolling(i, win_type=win_type).max()- batch['signal'].rolling(i, win_type=win_type).min()\n",
        " \n",
        "        # last n shifted rolling mean\n",
        "        for i in [40, 45, 50, 55, 60, 100,]:\n",
        "            batch['shifted_rolling_'+str(i)+ '_mean_5'] = batch['last_' + str(i)+'_feature'].rolling(5, win_type=win_type).mean()\n",
        "            batch['shifted_rolling_'+str(i)+ '_median_5'] = batch['last_' + str(i)+'_feature'].rolling(5, win_type=win_type).median()\n",
        "            batch['shifted_rolling_'+str(i)+ '_mean_10'] = batch['last_' + str(i)+'_feature'].rolling(10, win_type=win_type).mean()\n",
        "            batch['shifted_rolling_'+str(i)+ '_median_10'] = batch['last_' + str(i)+'_feature'].rolling(10, win_type=win_type).median()\n",
        "            batch['shifted_rolling_'+str(i)+ '_var_5'] = batch['last_' + str(i)+'_feature'].rolling(5, win_type=win_type).var()\n",
        "            batch['shifted_rolling_'+str(i)+ '_var_10'] = batch['last_' + str(i)+'_feature'].rolling(10, win_type=win_type).var()\n",
        "            batch['shifted_rolling_'+str(i)+'_min_max_diff_5'] = batch['last_' + str(i)+'_feature'].rolling(5, win_type=win_type).max() - batch['last_' + str(i)+'_feature'].rolling(5, win_type=None).min()\n",
        "            batch['shifted_rolling_'+str(i)+'_min_max_diff_10'] = batch['last_' + str(i)+'_feature'].rolling(10, win_type=win_type).max() - batch['last_' + str(i)+'_feature'].rolling(10, win_type=None).min()\n",
        "            "
      ],
      "execution_count": 0,
      "outputs": []
    },
    {
      "cell_type": "code",
      "metadata": {
        "id": "bHLrF6bV7qfs",
        "colab_type": "code",
        "colab": {}
      },
      "source": [
        ""
      ],
      "execution_count": 0,
      "outputs": []
    },
    {
      "cell_type": "markdown",
      "metadata": {
        "id": "gJsUvwub7thM",
        "colab_type": "text"
      },
      "source": [
        "### implementation"
      ]
    },
    {
      "cell_type": "code",
      "metadata": {
        "id": "HVFKp7J57xwK",
        "colab_type": "code",
        "outputId": "3557a189-e332-4a17-9c69-6e0a45366137",
        "colab": {
          "base_uri": "https://localhost:8080/",
          "height": 88
        }
      },
      "source": [
        "%%time\n",
        "feature_range = list(range(1,15))\n",
        "feature_range.extend(list(range(45, 55)))\n",
        "feature_range.extend(list(range(90, 110)))\n",
        "# print(feature_range)\n",
        "# create_featuresv1(train_batches, feature_range)\n",
        "# create_featuresv2(train_batches)\n",
        "# create_featuresv3(train_batches)"
      ],
      "execution_count": 0,
      "outputs": [
        {
          "output_type": "stream",
          "text": [
            "[1, 2, 3, 4, 5, 6, 7, 8, 9, 10, 11, 12, 13, 14, 45, 46, 47, 48, 49, 50, 51, 52, 53, 54, 90, 91, 92, 93, 94, 95, 96, 97, 98, 99, 100, 101, 102, 103, 104, 105, 106, 107, 108, 109]\n",
            "CPU times: user 3.84 s, sys: 12 ms, total: 3.85 s\n",
            "Wall time: 3.85 s\n"
          ],
          "name": "stdout"
        }
      ]
    },
    {
      "cell_type": "code",
      "metadata": {
        "id": "BSsMsbv5r3Zh",
        "colab_type": "code",
        "colab": {}
      },
      "source": [
        "%%time\n",
        "create_featuresv1(train_batches, 500)\n"
      ],
      "execution_count": 0,
      "outputs": []
    },
    {
      "cell_type": "code",
      "metadata": {
        "id": "C14GkPdN-ZIt",
        "colab_type": "code",
        "colab": {}
      },
      "source": [
        "def fillna(batches):\n",
        "    for batch in batches:\n",
        "        batch.fillna(method='bfill', inplace=True)\n",
        "        batch.fillna(method='ffill', inplace=True)"
      ],
      "execution_count": 0,
      "outputs": []
    },
    {
      "cell_type": "code",
      "metadata": {
        "id": "wYhX8FEu-S-J",
        "colab_type": "code",
        "outputId": "4dbae35f-5e18-42dd-8866-1a1dc16198d3",
        "colab": {
          "base_uri": "https://localhost:8080/",
          "height": 51
        }
      },
      "source": [
        "%%time\n",
        "fillna(train_batches)\n",
        "# fillna(test_batches)"
      ],
      "execution_count": 0,
      "outputs": [
        {
          "output_type": "stream",
          "text": [
            "CPU times: user 19 s, sys: 6.8 s, total: 25.8 s\n",
            "Wall time: 25.9 s\n"
          ],
          "name": "stdout"
        }
      ]
    },
    {
      "cell_type": "code",
      "metadata": {
        "id": "0RduxuQxsWWb",
        "colab_type": "code",
        "outputId": "f9516b5c-ca42-49e8-e9fa-9e434a6fba50",
        "colab": {
          "base_uri": "https://localhost:8080/",
          "height": 34
        }
      },
      "source": [
        "gc.collect()"
      ],
      "execution_count": 0,
      "outputs": [
        {
          "output_type": "execute_result",
          "data": {
            "text/plain": [
              "0"
            ]
          },
          "metadata": {
            "tags": []
          },
          "execution_count": 10
        }
      ]
    },
    {
      "cell_type": "code",
      "metadata": {
        "id": "LG8_VwSH8G22",
        "colab_type": "code",
        "colab": {}
      },
      "source": [
        "# merge batches\n",
        "train = pd.concat(train_batches, ignore_index=True) \n",
        "train.head()"
      ],
      "execution_count": 0,
      "outputs": []
    },
    {
      "cell_type": "code",
      "metadata": {
        "id": "9fHsi0-xgHE-",
        "colab_type": "code",
        "outputId": "d51e1404-c042-43fd-b1ff-b88781f6116a",
        "colab": {
          "base_uri": "https://localhost:8080/",
          "height": 34
        }
      },
      "source": [
        "# del train, train_batches\n",
        "# gc.collect()"
      ],
      "execution_count": 0,
      "outputs": [
        {
          "output_type": "execute_result",
          "data": {
            "text/plain": [
              "84"
            ]
          },
          "metadata": {
            "tags": []
          },
          "execution_count": 35
        }
      ]
    },
    {
      "cell_type": "markdown",
      "metadata": {
        "id": "TuvuSR_GAOiK",
        "colab_type": "text"
      },
      "source": [
        "# LightGBM model\n",
        "- gradient boosting framework"
      ]
    },
    {
      "cell_type": "markdown",
      "metadata": {
        "id": "U-sLgM5EvO3S",
        "colab_type": "text"
      },
      "source": [
        "## focal loss and f1 metrics"
      ]
    },
    {
      "cell_type": "code",
      "metadata": {
        "id": "jAD6bJj0CwVd",
        "colab_type": "code",
        "colab": {}
      },
      "source": [
        "# def softmax(x):\n",
        "#     x = np.exp(x - np.max(x, axis=1).reshape(x.shape[0], 1))\n",
        "#     return x/x.sum(axis=1).reshape(x.shape[0], 1)\n",
        "\n",
        "def gradian(pk, pl, flag=True, a=2., g=0.5):\n",
        "    if flag:\n",
        "        x = (1-pk)**g\n",
        "        y = x*(1-pk)\n",
        "        z = np.log(pk)\n",
        "        return a*(g*pk*x*z - y)\n",
        "    else:\n",
        "        x = (1-pk)**(g-1)\n",
        "        y = x*(1-pk)\n",
        "        z = np.log(pk)\n",
        "        return a*(-g*pk*pl*x*z + pl*y)\n",
        "\n",
        "def hessian(pk, pl, flag=True, a=2., g=0.5):\n",
        "    epsilon = 1e-4\n",
        "    if flag:\n",
        "        x = (1-pk)**g\n",
        "        y = x*(1-pk)\n",
        "        z = np.log(pk)\n",
        "        return a*g*pk*(1-(1+g)*pk)*x*z + a*(1+2*g)*pk*y\n",
        "    else:\n",
        "        x = (1-pk)**(g-1)\n",
        "        y = x/(1-pk)\n",
        "        z = np.log(pk)\n",
        "        return -a*g*pk*pl*(1-pk+g*pk*pl)*y*z + a*pl*(pk + pl + pk*pl*(2*g-1)-1)*x\n",
        "\n",
        "\n",
        "\n",
        "def focal_loss_lgb(y_pred, dtrain, num_class=11, alpha=2, gamma=0.5):\n",
        "    epsilon = 1e-6\n",
        "    a,g = alpha, gamma\n",
        "    y_true = dtrain.get_label()\n",
        "    y_pred = np.reshape(y_pred, (y_true.shape[0], num_class), order='F')\n",
        "    y_pred = softmax(y_pred, axis=1)\n",
        "    y_pred = np.clip(y_pred, epsilon, 1-epsilon)\n",
        "\n",
        "    assert y_pred.shape[0] == y_true.shape[0]\n",
        "    # print(y_pred[4, 2])\n",
        "\n",
        "\n",
        "\n",
        "    grad = np.zeros(shape=(y_pred.shape[0], num_class))\n",
        "    hess = np.zeros(shape=(y_pred.shape[0], num_class))\n",
        "\n",
        "    for i in range(y_pred.shape[0]):\n",
        "        label = y_true.iloc[i]\n",
        "        # print('i: ', i)\n",
        "        for j in range(num_class):\n",
        "            if(j == label):\n",
        "                # print('j:',j)\n",
        "                grad[i, j] = gradian(y_pred[i, label], y_pred[i, j], True, a, g) \n",
        "                hess[i, j] = hessian(y_pred[i, label], y_pred[i, j], True, a, g)\n",
        "            else:\n",
        "                # print(\"j: \", j)\n",
        "                grad[i, j] = gradian(y_pred[i, label], y_pred[i, j], False, a, g) \n",
        "                hess[i, j] = hessian(y_pred[i, label], y_pred[i, j], False, a ,g)\n",
        "    # print(\"grad\\n\", grad)\n",
        "    # print('hess\\n')\n",
        "    # print(hess)\n",
        "\n",
        "    return grad.reshape(-1, order='F'), hess.reshape(-1, order='F')"
      ],
      "execution_count": 0,
      "outputs": []
    },
    {
      "cell_type": "code",
      "metadata": {
        "id": "wu7D7t4Z0QzZ",
        "colab_type": "code",
        "colab": {}
      },
      "source": [
        "def focal_loss_lgb(y_pred, dtrain, num_class=11, alpha=2, gamma=0.5):\n",
        "    epsilon = 1e-6\n",
        "    a,g = alpha, gamma\n",
        "    y_true = dtrain.get_label()\n",
        "    print(type(y_true))\n",
        "    print('y_true shape: ', y_true.shape)\n",
        "    # print(y_true[:10])\n",
        "    print(type(y_pred))\n",
        "    print(y_pred.shape)\n",
        "    # print(y_pred[:20])\n",
        "    y_pred = np.reshape(y_pred, (len(y_true), num_class), order='F')\n",
        "    y_pred = softmax(y_pred, axis=1)\n",
        "    assert y_pred.shape[0] == y_true.shape[0]\n",
        "\n",
        "    grad = np.zeros(shape=(y_pred.shape[0], num_class))\n",
        "    hess = np.zeros(shape=(y_pred.shape[0], num_class))\n",
        "\n",
        "\n",
        "    return grad.reshape(-1, order='F'), hess.reshape(-1, order='F')"
      ],
      "execution_count": 0,
      "outputs": []
    },
    {
      "cell_type": "code",
      "metadata": {
        "id": "O7veaepZvXSJ",
        "colab_type": "code",
        "colab": {}
      },
      "source": [
        "# additional metric for evaluation in lightGBM classifier\n",
        "def lgb_f1_score_class(y_pred, data):\n",
        "    y_true = data.get_label()\n",
        "    y_pred = np.reshape(y_pred,(len(y_true), 11), order='F')\n",
        "    y_pred = np.argmax(y_pred, axis=1)\n",
        "    return 'f1', f1_score(y_true, y_pred, average='macro'), True"
      ],
      "execution_count": 0,
      "outputs": []
    },
    {
      "cell_type": "code",
      "metadata": {
        "id": "6hCMtYbkYIXc",
        "colab_type": "code",
        "outputId": "6f3fad1e-64ca-4cb0-b3f8-fc03894faf37",
        "colab": {
          "base_uri": "https://localhost:8080/",
          "height": 34
        }
      },
      "source": [
        "a = [0, 1, 1.2, 3, 3.2]\n",
        "np.rint(np.clip(a, 0, 3)).astype('int')"
      ],
      "execution_count": 0,
      "outputs": [
        {
          "output_type": "execute_result",
          "data": {
            "text/plain": [
              "array([0, 1, 1, 3, 3])"
            ]
          },
          "metadata": {
            "tags": []
          },
          "execution_count": 20
        }
      ]
    },
    {
      "cell_type": "code",
      "metadata": {
        "id": "RDzmrzZxWd77",
        "colab_type": "code",
        "colab": {}
      },
      "source": [
        "# additional metric for evaluation in lightGBM Regression\n",
        "def lgb_f1_score_reg(y_pred, data):\n",
        "    y_true = data.get_label()\n",
        "    # y_pred = np.reshape(y_pred,(len(y_true), 11), order='F')\n",
        "    y_pred = np.rint(np.clip(y_pred, 0, 10)).astype('int')\n",
        "    return 'f1', f1_score(y_true, y_pred, average='macro'), True"
      ],
      "execution_count": 0,
      "outputs": []
    },
    {
      "cell_type": "markdown",
      "metadata": {
        "id": "rlNsdnWnvopS",
        "colab_type": "text"
      },
      "source": [
        "## data preparation for lgb"
      ]
    },
    {
      "cell_type": "code",
      "metadata": {
        "id": "Dm-neep6x6K4",
        "colab_type": "code",
        "colab": {}
      },
      "source": [
        "# lightGBM dataset\n",
        "def lgb_dataset(df, target_col=None, cols_to_drop=None, keep=False):\n",
        "    y = df[target_col]    \n",
        "    lgb_data = lgb.Dataset(df.drop(columns=cols_to_drop), y)\n",
        "    if not keep:\n",
        "        del df\n",
        "        gc.collect()\n",
        "    return lgb_data\n"
      ],
      "execution_count": 0,
      "outputs": []
    },
    {
      "cell_type": "code",
      "metadata": {
        "id": "iiN07-QTjxhA",
        "colab_type": "code",
        "colab": {}
      },
      "source": [
        "# train and val data split\n",
        "train_id = list()\n",
        "val_id = list()\n",
        "for i in range(0, 5000000, 500000):\n",
        "    train_id.extend(list(range(i, i+450000)))\n",
        "    val_id.extend(list(range(i+450000, i+500000)))"
      ],
      "execution_count": 0,
      "outputs": []
    },
    {
      "cell_type": "code",
      "metadata": {
        "id": "miUfjHYnoFdS",
        "colab_type": "code",
        "outputId": "62a44785-4756-4335-ef06-2f61a72863ac",
        "colab": {
          "base_uri": "https://localhost:8080/",
          "height": 51
        }
      },
      "source": [
        "%%time\n",
        "target_col = \"open_channels\"\n",
        "cols_to_drop=[\"time\", \"open_channels\"]\n",
        "lgb_train = lgb_dataset(train.loc[train_id], target_col, cols_to_drop, keep=True)\n",
        "lgb_val = lgb_dataset(train.loc[val_id], target_col, cols_to_drop, keep=True)"
      ],
      "execution_count": 0,
      "outputs": [
        {
          "output_type": "stream",
          "text": [
            "CPU times: user 4.01 s, sys: 2.78 s, total: 6.78 s\n",
            "Wall time: 6.81 s\n"
          ],
          "name": "stdout"
        }
      ]
    },
    {
      "cell_type": "markdown",
      "metadata": {
        "id": "ACvH1dhev2GD",
        "colab_type": "text"
      },
      "source": [
        "## model train"
      ]
    },
    {
      "cell_type": "code",
      "metadata": {
        "id": "NNT_VngkjNZB",
        "colab_type": "code",
        "colab": {}
      },
      "source": [
        "# lightgbm classifier boosting parameters\n",
        "lgb_params = {\"boosting_type\": \"gbdt\",\n",
        "              \"num_leaves\": 2**4-1,\n",
        "              \"max_depth\": -1,\n",
        "              \"learning_rate\": 0.05,\n",
        "              \"n_estimators\": 20,\n",
        "              \"objective\": \"multiclass\",  \n",
        "              \"num_class\": 11,\n",
        "            #   \"metrics\": [\"multi_logloss\"],\n",
        "            #   \"reg_alpha\": 0.001,\n",
        "            #   \"reg_lambda\": 0.001,\n",
        "              \"n_jobs\": -1,\n",
        "              \"random_state\": 7,\n",
        "              }"
      ],
      "execution_count": 0,
      "outputs": []
    },
    {
      "cell_type": "code",
      "metadata": {
        "id": "mSDyRs0zY56Z",
        "colab_type": "code",
        "colab": {}
      },
      "source": [
        "# lightgbm regressor boosting parameters\n",
        "lgb_params = {\"boosting_type\": \"gbdt\",\n",
        "              \"num_leaves\": 2**8-1,\n",
        "              \"max_depth\": -1,\n",
        "              \"learning_rate\": 0.08,\n",
        "              \"n_estimators\": 256,\n",
        "              \"objective\": \"regression\",  \n",
        "              \"reg_alpha\": 0.001,\n",
        "              \"reg_lambda\": 0.001,\n",
        "              \"n_jobs\": -1,\n",
        "              \"random_state\": 7,\n",
        "              }"
      ],
      "execution_count": 0,
      "outputs": []
    },
    {
      "cell_type": "code",
      "metadata": {
        "id": "vBc4Vx__ZHr9",
        "colab_type": "code",
        "outputId": "58d626b1-8881-408d-ac6f-4e0101508977",
        "colab": {
          "base_uri": "https://localhost:8080/",
          "height": 527
        }
      },
      "source": [
        "%%time\n",
        "lgb_model = lgb.train(params = lgb_params, \n",
        "                train_set = lgb_train,\n",
        "                valid_sets = lgb_val,      \n",
        "                num_boost_round = 200, \n",
        "                feval = lgb_f1_score_reg,       \n",
        "                verbose_eval = 10,\n",
        "                early_stopping_rounds = 100,)"
      ],
      "execution_count": 0,
      "outputs": [
        {
          "output_type": "stream",
          "text": [
            "Training until validation scores don't improve for 100 rounds.\n",
            "[10]\tvalid_0's l2: 1.37556\tvalid_0's f1: 0.127857\n",
            "[20]\tvalid_0's l2: 0.294046\tvalid_0's f1: 0.405468\n",
            "[30]\tvalid_0's l2: 0.0872997\tvalid_0's f1: 0.759791\n",
            "[40]\tvalid_0's l2: 0.0469227\tvalid_0's f1: 0.915453\n",
            "[50]\tvalid_0's l2: 0.0384729\tvalid_0's f1: 0.9218\n",
            "[60]\tvalid_0's l2: 0.0363519\tvalid_0's f1: 0.924262\n",
            "[70]\tvalid_0's l2: 0.0355463\tvalid_0's f1: 0.924719\n",
            "[80]\tvalid_0's l2: 0.0351359\tvalid_0's f1: 0.925033\n",
            "[90]\tvalid_0's l2: 0.0348296\tvalid_0's f1: 0.925237\n",
            "[100]\tvalid_0's l2: 0.0345416\tvalid_0's f1: 0.925501\n",
            "[110]\tvalid_0's l2: 0.0343571\tvalid_0's f1: 0.925712\n",
            "[120]\tvalid_0's l2: 0.0342069\tvalid_0's f1: 0.925779\n",
            "[130]\tvalid_0's l2: 0.0341168\tvalid_0's f1: 0.925903\n",
            "[140]\tvalid_0's l2: 0.034019\tvalid_0's f1: 0.925987\n",
            "[150]\tvalid_0's l2: 0.0339375\tvalid_0's f1: 0.926091\n",
            "[160]\tvalid_0's l2: 0.0338479\tvalid_0's f1: 0.926171\n",
            "[170]\tvalid_0's l2: 0.0337711\tvalid_0's f1: 0.926203\n",
            "[180]\tvalid_0's l2: 0.0337047\tvalid_0's f1: 0.926273\n",
            "[190]\tvalid_0's l2: 0.0336415\tvalid_0's f1: 0.926397\n",
            "[200]\tvalid_0's l2: 0.0335898\tvalid_0's f1: 0.926288\n",
            "[210]\tvalid_0's l2: 0.0335444\tvalid_0's f1: 0.926364\n",
            "[220]\tvalid_0's l2: 0.0335096\tvalid_0's f1: 0.926417\n",
            "[230]\tvalid_0's l2: 0.0334723\tvalid_0's f1: 0.926421\n",
            "[240]\tvalid_0's l2: 0.0334537\tvalid_0's f1: 0.926428\n",
            "[250]\tvalid_0's l2: 0.0333913\tvalid_0's f1: 0.926563\n",
            "Did not meet early stopping. Best iteration is:\n",
            "[256]\tvalid_0's l2: 0.0333829\tvalid_0's f1: 0.926542\n",
            "CPU times: user 14min 49s, sys: 1.28 s, total: 14min 50s\n",
            "Wall time: 4min 16s\n"
          ],
          "name": "stdout"
        }
      ]
    },
    {
      "cell_type": "code",
      "metadata": {
        "id": "2ZP6ie-ldElt",
        "colab_type": "code",
        "colab": {}
      },
      "source": [
        "%%time\n",
        "lgb_model = lgb.train(params = lgb_params, \n",
        "                train_set = lgb_train,\n",
        "                valid_sets = lgb_val,      \n",
        "                num_boost_round = 100, \n",
        "                fobj = focal_loss_lgb,\n",
        "                feval = lgb_f1_score_class,       \n",
        "                verbose_eval = 1,\n",
        "                early_stopping_rounds = 10,)"
      ],
      "execution_count": 0,
      "outputs": []
    },
    {
      "cell_type": "markdown",
      "metadata": {
        "id": "sAnQns0KCscw",
        "colab_type": "text"
      },
      "source": [
        "## LightGBM model analysis"
      ]
    },
    {
      "cell_type": "code",
      "metadata": {
        "id": "CVlY43mDtKVn",
        "colab_type": "code",
        "outputId": "608a2703-08e5-4c68-976f-13ab55e57858",
        "colab": {
          "base_uri": "https://localhost:8080/",
          "height": 316
        }
      },
      "source": [
        "lgb.plot_importance(lgb_model, height=0.1,)"
      ],
      "execution_count": 0,
      "outputs": [
        {
          "output_type": "execute_result",
          "data": {
            "text/plain": [
              "<matplotlib.axes._subplots.AxesSubplot at 0x7fb17fc54c50>"
            ]
          },
          "metadata": {
            "tags": []
          },
          "execution_count": 31
        },
        {
          "output_type": "display_data",
          "data": {
            "image/png": "[encoded data removed]",
            "text/plain": [
              "<Figure size 432x288 with 1 Axes>"
            ]
          },
          "metadata": {
            "tags": []
          }
        }
      ]
    },
    {
      "cell_type": "code",
      "metadata": {
        "id": "KyUOIZ2Sgfn9",
        "colab_type": "code",
        "colab": {}
      },
      "source": [
        "def plot_cm(y_true, y_pred, figsize=(20,15)):\n",
        "    cm = confusion_matrix(y_true, y_pred, labels=np.unique(y_true))\n",
        "    cm_sum = np.sum(cm, axis=1, keepdims=True)\n",
        "    cm_perc = cm / cm_sum.astype(float) * 100\n",
        "    annot = np.empty_like(cm).astype(str)\n",
        "    nrows, ncols = cm.shape\n",
        "    for i in range(nrows):\n",
        "        for j in range(ncols):\n",
        "            c = cm[i, j]\n",
        "            p = cm_perc[i, j]\n",
        "            if i == j:\n",
        "                s = cm_sum[i]\n",
        "                annot[i, j] = '%.1f%%\\n%d/%d' % (p, c, s)\n",
        "            elif c == 0:\n",
        "                annot[i, j] = ''\n",
        "            else:\n",
        "                annot[i, j] = '%.1f%%\\n%d' % (p, c)\n",
        "    cm = pd.DataFrame(cm, index=np.unique(y_true), columns=np.unique(y_true))\n",
        "    cm.index.name = 'Actual'\n",
        "    cm.columns.name = 'Predicted'\n",
        "    fig, ax = plt.subplots(figsize=figsize)\n",
        "    # sns.set(font_scale=1.4)\n",
        "    \n",
        "    sns.heatmap(cm, cmap= \"YlGnBu\", annot=annot, fmt='', ax=ax)\n",
        "    \n"
      ],
      "execution_count": 0,
      "outputs": []
    },
    {
      "cell_type": "code",
      "metadata": {
        "id": "XTVMktowcIKa",
        "colab_type": "code",
        "outputId": "99985d36-bc34-4e7a-a402-f0549c301c7e",
        "colab": {
          "base_uri": "https://localhost:8080/",
          "height": 52
        }
      },
      "source": [
        "%%time\n",
        "# for classifier model\n",
        "y_pred1 = lgb_model.predict(train.drop(columns=cols_to_drop).loc[val_id])\n",
        "y_pred1 = np.argmax(y_pred1, axis=1)\n",
        "y_true = train.loc[val_id, 'open_channels']"
      ],
      "execution_count": 0,
      "outputs": [
        {
          "output_type": "stream",
          "text": [
            "CPU times: user 1min 17s, sys: 166 ms, total: 1min 17s\n",
            "Wall time: 25.4 s\n"
          ],
          "name": "stdout"
        }
      ]
    },
    {
      "cell_type": "code",
      "metadata": {
        "id": "PaKumlAUcKVf",
        "colab_type": "code",
        "colab": {}
      },
      "source": [
        "# %%time\n",
        "plot_cm(y_true, y_pred1)"
      ],
      "execution_count": 0,
      "outputs": []
    },
    {
      "cell_type": "code",
      "metadata": {
        "id": "z52FiezegBTt",
        "colab_type": "code",
        "colab": {}
      },
      "source": [
        "data = confusion_matrix(y_true, y_pred1)\n",
        "df_cm = pd.DataFrame(data, columns=np.unique(y_true), index = np.unique(y_true))\n",
        "df_cm.index.name = 'Actual'\n",
        "df_cm.columns.name = 'Predicted'\n",
        "plt.figure(figsize = (15,15))\n",
        "sns.set(font_scale=1.4)#for label size\n",
        "sns.heatmap(df_cm, cmap=\"Blues\", annot=True,annot_kws={\"size\": 16})# font size"
      ],
      "execution_count": 0,
      "outputs": []
    },
    {
      "cell_type": "code",
      "metadata": {
        "id": "_UCbAINMGTNu",
        "colab_type": "code",
        "colab": {}
      },
      "source": [
        "%%time\n",
        "y_pred = lgb_model.predict(train.drop(columns=cols_to_drop).loc[val_id])\n",
        "y_pred = np.argmax(y_pred, axis=1)\n",
        "y_true = train.loc[val_id, 'open_channels']"
      ],
      "execution_count": 0,
      "outputs": []
    },
    {
      "cell_type": "code",
      "metadata": {
        "id": "YTolpYUCGSPN",
        "colab_type": "code",
        "colab": {}
      },
      "source": [
        "%%time\n",
        "plot_cm(y_true, y_pred)"
      ],
      "execution_count": 0,
      "outputs": []
    },
    {
      "cell_type": "code",
      "metadata": {
        "id": "uoMqg591edgo",
        "colab_type": "code",
        "outputId": "ade8ed99-04cc-4aff-c1f5-f364197017a7",
        "colab": {
          "base_uri": "https://localhost:8080/",
          "height": 425
        }
      },
      "source": [
        "%%time\n",
        "# for regressor model\n",
        "y_pred = lgb_model.predict(train.drop(columns=cols_to_drop).loc[val_id])\n",
        "y_pred = np.rint(np.clip(y_pred, 0, 10)).astype('int')\n",
        "y_true = train.loc[val_id, 'open_channels']\n",
        "cm = confusion_matrix(y_true, y_pred, labels=np.unique(y_true))\n",
        "print(cm)\n"
      ],
      "execution_count": 0,
      "outputs": [
        {
          "output_type": "stream",
          "text": [
            "[[123730    277      4      0      0      0      0      0      0      0\n",
            "       0]\n",
            " [   187  98553    460      3      0      0      0      0      0      0\n",
            "       0]\n",
            " [     0    287  54851    800     10      0      0      0      0      0\n",
            "       0]\n",
            " [     0     13    690  65301   1004     28      0      0      0      0\n",
            "       0]\n",
            " [     0      4     40    692  38320   1150     27      0      0      0\n",
            "       0]\n",
            " [     0      0      7    147    899  24458   1146     27      1      0\n",
            "       0]\n",
            " [     0      0      0     12    170   1159  16157   1414      0      0\n",
            "       0]\n",
            " [     0      0      0      0     16    121   1625  23179   1504      0\n",
            "       0]\n",
            " [     0      0      0      0      1      4     12   1725  21851    981\n",
            "       0]\n",
            " [     0      0      0      0      0      0      0      0   1177  11864\n",
            "     486]\n",
            " [     0      0      0      0      0      0      0      0      0    383\n",
            "    3043]]\n",
            "CPU times: user 16.4 s, sys: 40.9 ms, total: 16.5 s\n",
            "Wall time: 7.12 s\n"
          ],
          "name": "stdout"
        }
      ]
    },
    {
      "cell_type": "code",
      "metadata": {
        "id": "xKzb8SKBj98E",
        "colab_type": "code",
        "colab": {}
      },
      "source": [
        "y_pred_prob = lgb_model.predict(train.drop(columns=cols_to_drop).loc[val_id])\n"
      ],
      "execution_count": 0,
      "outputs": []
    },
    {
      "cell_type": "code",
      "metadata": {
        "id": "WLxXiEbafqNn",
        "colab_type": "code",
        "outputId": "d2b59644-65e5-4182-c45f-6feb14574b8e",
        "colab": {
          "base_uri": "https://localhost:8080/",
          "height": 85
        }
      },
      "source": [
        "print(\"accuracy: \", accuracy_score(y_true, y_pred))\n",
        "print(\"precision: \", precision_score(y_true, y_pred, average='macro'))\n",
        "print(\"recall: \", recall_score(y_true, y_pred, average='macro'))\n",
        "print(\"macro f1 score: \", f1_score(y_true, y_pred, average='macro'))\n"
      ],
      "execution_count": 0,
      "outputs": [
        {
          "output_type": "stream",
          "text": [
            "accuracy:  0.962614\n",
            "precision:  0.9258736696330035\n",
            "recall:  0.9272703289696413\n",
            "macro f1 score:  0.9265417796699965\n"
          ],
          "name": "stdout"
        }
      ]
    },
    {
      "cell_type": "code",
      "metadata": {
        "id": "Dhk46lVMfJeP",
        "colab_type": "code",
        "outputId": "faf164c6-3649-445f-a361-239ad160a2b7",
        "colab": {
          "base_uri": "https://localhost:8080/",
          "height": 204
        }
      },
      "source": [
        "for i in range(10):\n",
        "    print(cm[i])"
      ],
      "execution_count": 0,
      "outputs": [
        {
          "output_type": "stream",
          "text": [
            "[123730    277      4      0      0      0      0      0      0      0\n",
            "      0]\n",
            "[  187 98553   460     3     0     0     0     0     0     0     0]\n",
            "[    0   287 54851   800    10     0     0     0     0     0     0]\n",
            "[    0    13   690 65301  1004    28     0     0     0     0     0]\n",
            "[    0     4    40   692 38320  1150    27     0     0     0     0]\n",
            "[    0     0     7   147   899 24458  1146    27     1     0     0]\n",
            "[    0     0     0    12   170  1159 16157  1414     0     0     0]\n",
            "[    0     0     0     0    16   121  1625 23179  1504     0     0]\n",
            "[    0     0     0     0     1     4    12  1725 21851   981     0]\n",
            "[    0     0     0     0     0     0     0     0  1177 11864   486]\n"
          ],
          "name": "stdout"
        }
      ]
    },
    {
      "cell_type": "code",
      "metadata": {
        "id": "UqXKmeLR1DiE",
        "colab_type": "code",
        "colab": {}
      },
      "source": [
        "cols = list(train.drop(columns=cols_to_drop).columns)\n",
        "def plotImp(model, cols , num = 20):\n",
        "    feature_imp = pd.DataFrame({'Value':model.feature_importance(),'Feature':cols})\n",
        "    plt.figure(figsize=(40, 92))\n",
        "    sns.set(font_scale = 5)\n",
        "    sns.barplot(x=\"Value\", y=\"Feature\", data=feature_imp.sort_values(by=\"Value\", \n",
        "                                                        ascending=False)[0:num])\n",
        "    plt.title('LightGBM Features (avg over folds)')\n",
        "    plt.tight_layout()\n",
        "    plt.savefig('gdrive/My Drive/data/ion-switching/lgbm_importancesv0.png')\n",
        "    plt.show()\n",
        "\n",
        "plotImp(lgb_model, cols, 92)"
      ],
      "execution_count": 0,
      "outputs": []
    },
    {
      "cell_type": "code",
      "metadata": {
        "id": "pjjOEn901NMK",
        "colab_type": "code",
        "colab": {}
      },
      "source": [
        ""
      ],
      "execution_count": 0,
      "outputs": []
    },
    {
      "cell_type": "markdown",
      "metadata": {
        "id": "OLeB6sy4C9hL",
        "colab_type": "text"
      },
      "source": [
        "# Prediction"
      ]
    },
    {
      "cell_type": "code",
      "metadata": {
        "id": "VzpQ2U8H1E4b",
        "colab_type": "code",
        "colab": {}
      },
      "source": [
        "cols = list(test.columns)\n",
        "cols = cols[1:]"
      ],
      "execution_count": 0,
      "outputs": []
    },
    {
      "cell_type": "code",
      "metadata": {
        "id": "Jj-aCRGBqp__",
        "colab_type": "code",
        "colab": {}
      },
      "source": [
        "test = pd.read_csv(\"gdrive/My Drive/data/ion-switching/test_finalv2.csv\")\n"
      ],
      "execution_count": 0,
      "outputs": []
    },
    {
      "cell_type": "code",
      "metadata": {
        "id": "c7kACMvks8Sz",
        "colab_type": "code",
        "outputId": "d4cdc037-3c67-4cc2-ac21-b38c35482f45",
        "colab": {
          "base_uri": "https://localhost:8080/",
          "height": 52
        }
      },
      "source": [
        "%%time\n",
        "cols = list(test.columns)\n",
        "cols = cols[1:]\n",
        "preds = modelLgb.predict(test.loc[:, cols])\n",
        "res = np.argmax(preds, axis=1)"
      ],
      "execution_count": 0,
      "outputs": [
        {
          "output_type": "stream",
          "text": [
            "CPU times: user 3min 36s, sys: 1.22 s, total: 3min 37s\n",
            "Wall time: 58.6 s\n"
          ],
          "name": "stdout"
        }
      ]
    },
    {
      "cell_type": "code",
      "metadata": {
        "id": "zpZuz4Q4rieF",
        "colab_type": "code",
        "outputId": "429adda3-e2dd-4162-b958-161883d0f3ba",
        "colab": {
          "base_uri": "https://localhost:8080/",
          "height": 34
        }
      },
      "source": [
        "len(res)"
      ],
      "execution_count": 0,
      "outputs": [
        {
          "output_type": "execute_result",
          "data": {
            "text/plain": [
              "1499999"
            ]
          },
          "metadata": {
            "tags": []
          },
          "execution_count": 30
        }
      ]
    },
    {
      "cell_type": "code",
      "metadata": {
        "id": "w1j3HiOPrGPc",
        "colab_type": "code",
        "colab": {}
      },
      "source": [
        "t = pd.read_csv(\"test.csv\")"
      ],
      "execution_count": 0,
      "outputs": []
    },
    {
      "cell_type": "code",
      "metadata": {
        "id": "JJwsunUBzH1E",
        "colab_type": "code",
        "colab": {}
      },
      "source": [
        "t['open_channels'] = res"
      ],
      "execution_count": 0,
      "outputs": []
    },
    {
      "cell_type": "code",
      "metadata": {
        "id": "tEPeE2MCyz6l",
        "colab_type": "code",
        "colab": {}
      },
      "source": [
        "t[['time','open_channels']].to_csv('gdrive/My Drive/data/ion-switching/subv3.csv', index=False, float_format='%.4f')"
      ],
      "execution_count": 0,
      "outputs": []
    },
    {
      "cell_type": "code",
      "metadata": {
        "id": "KoMBuRY9vXRt",
        "colab_type": "code",
        "colab": {}
      },
      "source": [
        "sub.open_channels = res"
      ],
      "execution_count": 0,
      "outputs": []
    },
    {
      "cell_type": "markdown",
      "metadata": {
        "id": "jave6VrDiBe2",
        "colab_type": "text"
      },
      "source": [
        "# logs"
      ]
    },
    {
      "cell_type": "markdown",
      "metadata": {
        "id": "tEfN59DciFWX",
        "colab_type": "text"
      },
      "source": [
        "#### model: lightgbm with 100 estimators and 2**7-1 leaves\n",
        "features version 0 with 100 shifted features\n",
        "Training until validation scores don't improve for 150 rounds.\n",
        "\n",
        "[10]\tvalid_0's multi_logloss: 1.0317\tvalid_0's f1: 0.914318\n",
        "\n",
        "[20]\tvalid_0's multi_logloss: 0.638123\tvalid_0's f1: 0.922837\n",
        "\n",
        "[30]\tvalid_0's multi_logloss: 0.426421\tvalid_0's f1: 0.923645\n",
        "\n",
        "[40]\tvalid_0's multi_logloss: 0.303382\tvalid_0's f1: 0.924218\n",
        "\n",
        "[50]\tvalid_0's multi_logloss: 0.229474\tvalid_0's f1: 0.924696\n",
        "\n",
        "[60]\tvalid_0's multi_logloss: 0.184185\tvalid_0's f1: 0.925135\n",
        "\n",
        "[70]\tvalid_0's multi_logloss: 0.155879\tvalid_0's f1: 0.92539\n",
        "\n",
        "[80]\tvalid_0's multi_logloss: 0.137785\tvalid_0's f1: 0.925622\n",
        "\n",
        "[90]\tvalid_0's multi_logloss: 0.126008\tvalid_0's f1: 0.925916\n",
        "\n",
        "[100]\tvalid_0's multi_logloss: 0.118199\tvalid_0's f1: 0.926071\n",
        "\n",
        "Did not meet early stopping. Best iteration is:\n",
        "\n",
        "[100]\tvalid_0's multi_logloss: 0.118199\tvalid_0's f1: 0.926071\n",
        "CPU times: user 1h 17min 19s, sys: 10.1 s, total: 1h 17min 29s\n",
        "Wall time: 20min 2s"
      ]
    },
    {
      "cell_type": "markdown",
      "metadata": {
        "id": "PVvMHxl-DIKb",
        "colab_type": "text"
      },
      "source": [
        "# testing of codes"
      ]
    },
    {
      "cell_type": "code",
      "metadata": {
        "id": "JNd1N-pHjiIm",
        "colab_type": "code",
        "outputId": "8bb1f3e0-f460-44e0-fca8-eca6962cfd58",
        "colab": {
          "base_uri": "https://localhost:8080/",
          "height": 486
        }
      },
      "source": [
        "%%time\n",
        "modelLgb = lgb.cv(params = lgb_params, \n",
        "                train_set = lgb_train,\n",
        "                num_boost_round= 500,\n",
        "                folds = None,\n",
        "                nfold = 5,\n",
        "                stratified = True,\n",
        "                shuffle = True,\n",
        "                # feval = lgb_f1_score,      \n",
        "                verbose_eval=5,\n",
        "                early_stopping_rounds=250, \n",
        "                seed = 7)\n",
        "\n"
      ],
      "execution_count": 0,
      "outputs": [
        {
          "output_type": "stream",
          "text": [
            "[5]\tcv_agg's multi_logloss: 0.0295215 + 0.000221854\n",
            "[10]\tcv_agg's multi_logloss: 0.0191247 + 0.000210977\n",
            "[15]\tcv_agg's multi_logloss: 0.0127889 + 0.000238789\n",
            "[20]\tcv_agg's multi_logloss: 0.00874251 + 0.000271495\n",
            "[25]\tcv_agg's multi_logloss: 0.006114 + 0.000291415\n",
            "[30]\tcv_agg's multi_logloss: 0.00437385 + 0.000318884\n",
            "[35]\tcv_agg's multi_logloss: 0.00322424 + 0.000346242\n",
            "[40]\tcv_agg's multi_logloss: 0.00245795 + 0.000358087\n",
            "[45]\tcv_agg's multi_logloss: 0.0019601 + 0.000367688\n",
            "[50]\tcv_agg's multi_logloss: 0.00163193 + 0.000382814\n",
            "[55]\tcv_agg's multi_logloss: 0.00141722 + 0.000404556\n",
            "[60]\tcv_agg's multi_logloss: 0.00128982 + 0.000421819\n",
            "[65]\tcv_agg's multi_logloss: 0.0012033 + 0.000442764\n",
            "[70]\tcv_agg's multi_logloss: 0.00115439 + 0.000469251\n",
            "[75]\tcv_agg's multi_logloss: 0.00112262 + 0.000482437\n",
            "[80]\tcv_agg's multi_logloss: 0.0011157 + 0.000505918\n",
            "[85]\tcv_agg's multi_logloss: 0.00111455 + 0.000523774\n",
            "[90]\tcv_agg's multi_logloss: 0.00111956 + 0.000538853\n",
            "[95]\tcv_agg's multi_logloss: 0.0011367 + 0.000554927\n",
            "[100]\tcv_agg's multi_logloss: 0.00115415 + 0.000569828\n",
            "[105]\tcv_agg's multi_logloss: 0.00117225 + 0.000589195\n",
            "[110]\tcv_agg's multi_logloss: 0.00118921 + 0.000606523\n",
            "[115]\tcv_agg's multi_logloss: 0.00121323 + 0.000618651\n",
            "[120]\tcv_agg's multi_logloss: 0.00123163 + 0.000630645\n",
            "[125]\tcv_agg's multi_logloss: 0.00125856 + 0.000643531\n",
            "CPU times: user 1min 12s, sys: 381 ms, total: 1min 13s\n",
            "Wall time: 19.2 s\n"
          ],
          "name": "stdout"
        }
      ]
    },
    {
      "cell_type": "code",
      "metadata": {
        "id": "VuBDjnjnvd7F",
        "colab_type": "code",
        "colab": {}
      },
      "source": [
        "# def softmax(x):\n",
        "#     x = np.exp(x - np.max(x, axis=1).reshape(x.shape[0], 1))\n",
        "#     return x/x.sum(axis=1).reshape(x.shape[0], 1)\n",
        "\n",
        "def focal_loss_lgb(y_pred, dtrain, alpha=1, gamma=0):\n",
        "    a,g = alpha, gamma\n",
        "    y_true = dtrain.get_label()\n",
        "    # print(y_pred[4956886:4958000])\n",
        "    # print(y_true.shape)\n",
        "    print(y_pred[:12])\n",
        "    print(y_pred[:3].sum())\n",
        "    y_pred = np.reshape(y_pred,(len(y_true), 3), order='F')\n",
        "    print(y_pred[:2])\n",
        "    print(y_pred[:1].sum())\n",
        "    # y_pred = np.reshape(y_pred, (len(y_true), 11), order='F')\n",
        "    # print(y_pred.shape)\n",
        "\n",
        "    #   def fl(y_pred, y_true):\n",
        "    #   \t# p = 1/(1+np.exp(-x))\n",
        "    #     p = softmax(y_pred, axis=1)\n",
        "    #     y_true = np.array(y_true).reshape(-1, 1)\n",
        "    #     pt = np.take_along_axis(p, y_true, axis=-1)\n",
        "    #   \t# return -( a*t + (1-a)*(1-t) ) * (( 1 - ( t*p + (1-t)*(1-p)) )**g) * ( t*np.log(p)+(1-t)*np.log(1-p) )\n",
        "    #     return (-a*(1-pt)**g*np.log(pt)).reshape(-1)\n",
        "    \n",
        "\n",
        "    #   partial_fl = lambda y_pred: fl(y_pred, y_true)\n",
        "    #   grad = derivative(partial_fl, y_pred, n=1, dx=1e-6)\n",
        "    p = softmax(y_pred, axis=1)\n",
        "    print(p[:2])\n",
        "    print(p[:1].sum())\n",
        "    # y_true = np.array(y_true).reshape(-1, 1)\n",
        "    # pt = np.take_along_axis(p, y_true, axis=1)\n",
        "    # pt += 1e-6\n",
        "    # # print(pt)\n",
        "\n",
        "    # x = (1-pt)**g\n",
        "    # y = x/(1-pt)\n",
        "    # z = y/(1-pt)\n",
        "    # w = np.log(pt)\n",
        "    # grad = a*(g*y*w - x/p)\n",
        "    # grad = grad.reshape(-1)\n",
        "    # hess = a*(-g*(g-1)*z*w + 2*g*y/p + x/(p**2))\n",
        "    # hess = hess.reshape(-1)\n",
        "    # print(hess)\n",
        "    # print(grad)\n",
        "    q = 2*p\n",
        "    #   hess = derivative(partial_fl, y_pred, n=2, dx=1e-6)\n",
        "    print(p.shape)\n",
        "    return np.random.rand(y_pred.shape[0], y_pred.shape[1]).reshape(-1), np.random.rand(y_pred.shape[0], y_pred.shape[1]).reshape(-1)"
      ],
      "execution_count": 0,
      "outputs": []
    },
    {
      "cell_type": "code",
      "metadata": {
        "id": "q_DD0MHLvaNN",
        "colab_type": "code",
        "colab": {}
      },
      "source": [
        "def focal_loss_lgb_eval_error(y_pred, dtrain, alpha, gamma):\n",
        "  a,g = alpha, gamma\n",
        "  y_true = dtrain.label\n",
        "  p = 1/(1+np.exp(-y_pred))\n",
        "  loss = -( a*y_true + (1-a)*(1-y_true) ) * (( 1 - ( y_true*p + (1-y_true)*(1-p)) )**g) * ( y_true*np.log(p)+(1-y_true)*np.log(1-p) )\n",
        "  # (eval_name, eval_result, is_higher_better)\n",
        "  return 'focal_loss', np.mean(loss), False"
      ],
      "execution_count": 0,
      "outputs": []
    },
    {
      "cell_type": "code",
      "metadata": {
        "id": "mktif-hfloi2",
        "colab_type": "code",
        "colab": {}
      },
      "source": [
        "# additional metric for evaluation in lightGBM\n",
        "def lgb_f1_score(y_pred, data):\n",
        "    y_true = data.get_label()\n",
        "    # print(y_pred[:22])\n",
        "    # print(y_pred[:11].sum())\n",
        "    y_pred = np.reshape(y_pred,(len(y_true), 11), order='F')\n",
        "    # print(y_pred[:2])\n",
        "    # print(y_pred[:1].sum())\n",
        "    y_pred = np.argmax(y_pred, axis=1)\n",
        "    return 'f1', f1_score(y_true, y_pred, average='macro'), True"
      ],
      "execution_count": 0,
      "outputs": []
    },
    {
      "cell_type": "code",
      "metadata": {
        "id": "mg0SewznFreC",
        "colab_type": "code",
        "colab": {}
      },
      "source": [
        ""
      ],
      "execution_count": 0,
      "outputs": []
    },
    {
      "cell_type": "code",
      "metadata": {
        "id": "eYZPVmIc_7zl",
        "colab_type": "code",
        "outputId": "65f2107c-586b-4198-b742-3c944400d36e",
        "colab": {
          "base_uri": "https://localhost:8080/",
          "height": 121
        }
      },
      "source": [
        "x = np.random.rand(3,5)\n",
        "y = [1, 2, 4]\n",
        "print(x)\n",
        "x"
      ],
      "execution_count": 0,
      "outputs": [
        {
          "output_type": "stream",
          "text": [
            "[[0.52234671 0.42601982 0.69586967 0.20430726 0.77752276]\n",
            " [0.31115478 0.81438284 0.33290096 0.06239958 0.16058122]\n",
            " [0.84310825 0.00186917 0.36084899 0.97751551 0.872701  ]]\n"
          ],
          "name": "stdout"
        },
        {
          "output_type": "execute_result",
          "data": {
            "text/plain": [
              "array([[0.52234671, 0.42601982, 0.69586967, 0.20430726, 0.77752276],\n",
              "       [0.31115478, 0.81438284, 0.33290096, 0.06239958, 0.16058122],\n",
              "       [0.84310825, 0.00186917, 0.36084899, 0.97751551, 0.872701  ]])"
            ]
          },
          "metadata": {
            "tags": []
          },
          "execution_count": 34
        }
      ]
    },
    {
      "cell_type": "code",
      "metadata": {
        "id": "BK-jufPD4Pjf",
        "colab_type": "code",
        "outputId": "64dbee99-eb59-4432-b5d3-81f7afdd5488",
        "colab": {
          "base_uri": "https://localhost:8080/",
          "height": 86
        }
      },
      "source": [
        "y_pred = np.array([1, 2, 3, 4, 5, 6, 7, 8 , 9, 10, 11, 13])\n",
        "np.reshape(y_pred, (4, 3), order='F')"
      ],
      "execution_count": 0,
      "outputs": [
        {
          "output_type": "execute_result",
          "data": {
            "text/plain": [
              "array([[ 1,  5,  9],\n",
              "       [ 2,  6, 10],\n",
              "       [ 3,  7, 11],\n",
              "       [ 4,  8, 13]])"
            ]
          },
          "metadata": {
            "tags": []
          },
          "execution_count": 27
        }
      ]
    },
    {
      "cell_type": "code",
      "metadata": {
        "id": "nePwW05sKERR",
        "colab_type": "code",
        "colab": {}
      },
      "source": [
        "def fl(y_pred, y_true):\n",
        "  \t# p = 1/(1+np.exp(-x))\n",
        "    a = 2\n",
        "    g =0.5\n",
        "    p = softmax(y_pred, axis=1)\n",
        "    y_true = np.array(y_true).reshape(-1, 1)\n",
        "    pt = np.take_along_axis(p, y_true, axis=-1)\n",
        "  \t# return -( a*t + (1-a)*(1-t) ) * (( 1 - ( t*p + (1-t)*(1-p)) )**g) * ( t*np.log(p)+(1-t)*np.log(1-p) )\n",
        "    return (-a*(1-pt)**g*np.log(pt)).reshape(-1)"
      ],
      "execution_count": 0,
      "outputs": []
    },
    {
      "cell_type": "code",
      "metadata": {
        "id": "pEmXu8gKU9yi",
        "colab_type": "code",
        "outputId": "26abadac-2b70-487a-9a5c-3b3fc4518dbf",
        "colab": {
          "base_uri": "https://localhost:8080/",
          "height": 86
        }
      },
      "source": [
        "x = np.random.rand(3, 5)\n",
        "print(x, '\\n',  x[1, 3])\n"
      ],
      "execution_count": 0,
      "outputs": [
        {
          "output_type": "stream",
          "text": [
            "[[0.76855234 0.32541911 0.29103921 0.95893138 0.30944735]\n",
            " [0.2518152  0.83733783 0.21238705 0.75217013 0.39785218]\n",
            " [0.29448002 0.87449696 0.64492076 0.04184467 0.07536962]] \n",
            " 0.7521701309699464\n"
          ],
          "name": "stdout"
        }
      ]
    },
    {
      "cell_type": "code",
      "metadata": {
        "id": "d86t1x7JK9IZ",
        "colab_type": "code",
        "outputId": "f0aaf50c-fc56-4e0d-93fb-f6edbc4ac8a0",
        "colab": {
          "base_uri": "https://localhost:8080/",
          "height": 34
        }
      },
      "source": [
        "fl(x, y).reshape(-1)"
      ],
      "execution_count": 0,
      "outputs": [
        {
          "output_type": "execute_result",
          "data": {
            "text/plain": [
              "array([3.13551418, 2.96404414, 2.45346831])"
            ]
          },
          "metadata": {
            "tags": []
          },
          "execution_count": 82
        }
      ]
    }
  ]
}